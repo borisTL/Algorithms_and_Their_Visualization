{
 "cells": [
  {
   "cell_type": "markdown",
   "id": "ba05a115",
   "metadata": {},
   "source": [
    "## **Stage** 1: Import Libraries and Create the Graph"
   ]
  },
  {
   "cell_type": "code",
   "execution_count": 28,
   "id": "7d754a46",
   "metadata": {},
   "outputs": [],
   "source": [
    "import networkx as nx\n",
    "import matplotlib.pyplot as plt\n",
    "from IPython.display import display, clear_output\n",
    "import time\n",
    "from collections import deque\n",
    "\n",
    "# Create a circular graph\n",
    "G = nx.cycle_graph(7)"
   ]
  },
  {
   "cell_type": "markdown",
   "id": "d69879f2",
   "metadata": {},
   "source": [
    "- Here, we import the necessary libraries, including NetworkX for graph operations, Matplotlib for visualization, IPython's display for dynamic output, and the deque data structure for the BFS queue.\n",
    "- We create a circular graph G with 7 nodes using nx.cycle_graph(7)."
   ]
  },
  {
   "cell_type": "markdown",
   "id": "613797bf",
   "metadata": {},
   "source": [
    "### Stage 2: Initialize BFS Traversal"
   ]
  },
  {
   "cell_type": "code",
   "execution_count": 38,
   "id": "8760713e",
   "metadata": {},
   "outputs": [],
   "source": [
    "def bfs_animation(graph, start_node):\n",
    "    visited = set()\n",
    "    queue = deque()\n",
    "    queue.append(start_node)\n",
    "    visited.add(start_node)\n"
   ]
  },
  {
   "cell_type": "markdown",
   "id": "89a4fad9",
   "metadata": {},
   "source": [
    "- We define a function bfs_animation that takes the graph and the starting node as input.\n",
    "- We initialize a visited set to keep track of visited nodes and a queue for BFS traversal.\n",
    "- We start the traversal from the start_node, mark it as visited, and enqueue it."
   ]
  },
  {
   "cell_type": "markdown",
   "id": "ffdb3919",
   "metadata": {},
   "source": [
    "### Stage 3: BFS Traversal with Visualization"
   ]
  },
  {
   "cell_type": "code",
   "execution_count": null,
   "id": "ef032ad1",
   "metadata": {},
   "outputs": [],
   "source": [
    "while queue:\n",
    "    node = queue.popleft()\n",
    "\n",
    "    # Visualization: Draw the current state of the graph\n",
    "    clear_output(wait=True)\n",
    "    pos = nx.circular_layout(graph)\n",
    "    nx.draw(graph, pos, with_labels=True, node_size=500, node_color='skyblue', font_size=12, font_color='black')\n",
    "    nx.draw_networkx_nodes(graph, pos, nodelist=[node], node_color='red', node_size=500)\n",
    "    plt.title(f'BFS Traversal (Visiting {node})')\n",
    "    plt.show()\n",
    "    time.sleep(1)  # Pause for visualization (1 second)\n",
    "\n",
    "    for neighbor in graph.neighbors(node):\n",
    "        if neighbor not in visited:\n",
    "            queue.append(neighbor)\n",
    "            visited.add(neighbor)\n"
   ]
  },
  {
   "cell_type": "markdown",
   "id": "0557b782",
   "metadata": {},
   "source": [
    "- We enter a while loop to perform BFS traversal while the queue is not empty.\n",
    "- Inside the loop, we dequeue the front node node for exploration.\n",
    "- We clear the output for dynamic visualization and set the positions pos for graph layout.\n",
    "- We visualize the current state of the graph, highlighting the visited node in red.\n",
    "- We pause for 1 second to display the visualization.\n",
    "- We iterate through neighbors of node and enqueue unvisited neighbors for further exploration."
   ]
  },
  {
   "cell_type": "markdown",
   "id": "3d24f7c4",
   "metadata": {},
   "source": [
    "### Stage 4: Display Shortest Paths Tree"
   ]
  },
  {
   "cell_type": "code",
   "execution_count": null,
   "id": "91342f19",
   "metadata": {},
   "outputs": [],
   "source": [
    "# Calculate and display the shortest paths tree\n",
    "clear_output(wait=True)\n",
    "plt.title('Shortest Paths Tree')\n",
    "pos = nx.circular_layout(graph)\n",
    "shortest_paths_tree = nx.bfs_tree(graph, source=start_node)\n",
    "nx.draw(shortest_paths_tree, pos, with_labels=True, node_size=500, edge_color='red', font_size=12, font_color='black')\n",
    "plt.show()"
   ]
  },
  {
   "cell_type": "markdown",
   "id": "86643063",
   "metadata": {},
   "source": [
    "- After BFS traversal, we clear the output for the final visualization.\n",
    "- We calculate the shortest paths tree from the starting node using nx.bfs_tree.\n",
    "- We visualize the shortest paths tree, highlighting edges in red."
   ]
  },
  {
   "cell_type": "code",
   "execution_count": 47,
   "id": "f7832603",
   "metadata": {},
   "outputs": [
    {
     "data": {
      "image/png": "[encoded data removed]",
      "text/plain": [
       "<Figure size 640x480 with 1 Axes>"
      ]
     },
     "metadata": {},
     "output_type": "display_data"
    }
   ],
   "source": [
    "# Start BFS traversal from node 0\n",
    "start_node = 0\n",
    "bfs_animation(G, start_node)"
   ]
  },
  {
   "cell_type": "code",
   "execution_count": null,
   "id": "68a15913",
   "metadata": {},
   "outputs": [],
   "source": []
  }
 ],
 "metadata": {
  "kernelspec": {
   "display_name": "Python 3 (ipykernel)",
   "language": "python",
   "name": "python3"
  },
  "language_info": {
   "codemirror_mode": {
    "name": "ipython",
    "version": 3
   },
   "file_extension": ".py",
   "mimetype": "text/x-python",
   "name": "python",
   "nbconvert_exporter": "python",
   "pygments_lexer": "ipython3",
   "version": "3.11.4"
  }
 },
 "nbformat": 4,
 "nbformat_minor": 5
}
