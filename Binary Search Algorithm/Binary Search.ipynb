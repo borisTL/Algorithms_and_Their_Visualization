{
 "cells": [
  {
   "cell_type": "markdown",
   "id": "055a2e1b",
   "metadata": {},
   "source": [
    "# Binary Search Visualization"
   ]
  },
  {
   "cell_type": "markdown",
   "id": "74d53a3b",
   "metadata": {},
   "source": [
    "Binary search is an efficient algorithm for finding a particular value from a sorted array. The basic idea is to divide the searching interval in half repetitively until you've narrowed down the possible locations to just one.\n",
    "\n",
    "The following cells demonstrate the binary search algorithm with a visualization tool:"
   ]
  },
  {
   "cell_type": "markdown",
   "id": "8f06bd89",
   "metadata": {},
   "source": [
    "### Importing Necessary Libraries"
   ]
  },
  {
   "cell_type": "code",
   "execution_count": 11,
   "id": "664c4768",
   "metadata": {},
   "outputs": [],
   "source": [
    "import numpy as np\n",
    "import ipywidgets as widgets\n",
    "import time\n",
    "from IPython.display import display, clear_output, Markdown"
   ]
  },
  {
   "cell_type": "markdown",
   "id": "687d15eb",
   "metadata": {},
   "source": [
    "- **numpy**: Library for numerical operations.\n",
    "- **ipywidgets**: Provides interactive widgets for the Jupyter notebook.\n",
    "- **time**: Allows us to add delays for the visualization.\n",
    "- **IPython.display**: For displaying widgets and clearing output."
   ]
  },
  {
   "cell_type": "markdown",
   "id": "45507128",
   "metadata": {},
   "source": [
    "### Binary Search Algorithm\n"
   ]
  },
  {
   "cell_type": "code",
   "execution_count": 12,
   "id": "234272f8",
   "metadata": {},
   "outputs": [],
   "source": [
    "def binary_search(array, target):\n",
    "    low = 0\n",
    "    high = len(array) - 1\n",
    "    while low <= high:\n",
    "        mid = (low + high) // 2\n",
    "        if array[mid] == target:\n",
    "            return mid\n",
    "        elif array[mid] < target:\n",
    "            low = mid + 1\n",
    "        else:\n",
    "            high = mid - 1\n",
    "    return -1\n"
   ]
  },
  {
   "cell_type": "markdown",
   "id": "502a248e",
   "metadata": {},
   "source": [
    "This function defines the core logic of binary search. It returns the index of the target if found, else -1."
   ]
  },
  {
   "cell_type": "markdown",
   "id": "66ed2576",
   "metadata": {},
   "source": [
    " ### Visualization of Binary Search\n"
   ]
  },
  {
   "cell_type": "code",
   "execution_count": null,
   "id": "34279bdd",
   "metadata": {},
   "outputs": [],
   "source": [
    "arr = sorted(np.random.randint(1, 100, 15))  # A sorted array of random numbers\n",
    "target = np.random.choice(arr)  # Randomly selecting a target from the array\n"
   ]
  },
  {
   "cell_type": "markdown",
   "id": "c0d8b397",
   "metadata": {},
   "source": [
    "We initialize a sorted array and randomly select a target element for searching."
   ]
  },
  {
   "cell_type": "markdown",
   "id": "95ada3b7",
   "metadata": {},
   "source": [
    "The following function visualizes each step of the binary search:"
   ]
  },
  {
   "cell_type": "markdown",
   "id": "078962e7",
   "metadata": {},
   "source": [
    "### Visualization Function"
   ]
  },
  {
   "cell_type": "markdown",
   "id": "8b14fb70",
   "metadata": {},
   "source": [
    "The primary purpose of this function is to visually represent each step of the binary search algorithm. We aim to showcase how the list is divided in half during each iteration and how the algorithm converges to the target value."
   ]
  },
  {
   "cell_type": "code",
   "execution_count": 16,
   "id": "2029ee5b",
   "metadata": {},
   "outputs": [],
   "source": [
    "output = widgets.Output()\n",
    "\n",
    "@output.capture(clear_output=True)\n",
    "def visualize_binary_search(arr, target):\n",
    "    low, high = 0, len(arr) - 1\n",
    "    iteration = 1\n",
    "    while low <= high:\n",
    "        display_array = [' '] * len(arr)\n",
    "        mid = (low + high) // 2\n",
    "        for i in range(low, high + 1):\n",
    "            display_array[i] = str(arr[i])\n",
    "        display_array[mid] = f\"[{arr[mid]}]\"\n",
    "        \n",
    "        print(f\"Iteration {iteration}: {' '.join(display_array)}\")\n",
    "        \n",
    "        if arr[mid] == target:\n",
    "            print(f\"Found {target} at index {mid}\")\n",
    "            break\n",
    "        elif arr[mid] < target:\n",
    "            for i in range(low, mid):\n",
    "                display_array[i] = f\"~~{arr[i]}~~\"\n",
    "            low = mid + 1\n",
    "        else:\n",
    "            for i in range(mid+1, high+1):\n",
    "                display_array[i] = f\"~~{arr[i]}~~\"\n",
    "            high = mid - 1\n",
    "        \n",
    "        print(f\"Iteration {iteration}: {' '.join(display_array)}\\n\")\n",
    "        iteration += 1\n",
    "        time.sleep(1)\n",
    "    else:\n",
    "        print(f\"{target} not found in array\")"
   ]
  },
  {
   "cell_type": "markdown",
   "id": "22ac8859",
   "metadata": {},
   "source": [
    "### User Interaction and Visualization Execution"
   ]
  },
  {
   "cell_type": "markdown",
   "id": "85ab76f8",
   "metadata": {},
   "source": [
    "For enhanced user experience, we provide a button. Once clicked, it initiates the visualization of the binary search process on a random array."
   ]
  },
  {
   "cell_type": "code",
   "execution_count": 17,
   "id": "6469f09e",
   "metadata": {},
   "outputs": [
    {
     "data": {
      "application/vnd.jupyter.widget-view+json": {
       "model_id": "9dcd75f895ca4ef4bd2f1add72b0fb23",
       "version_major": 2,
       "version_minor": 0
      },
      "text/plain": [
       "Button(description='Visualize Binary Search', style=ButtonStyle())"
      ]
     },
     "metadata": {},
     "output_type": "display_data"
    },
    {
     "data": {
      "application/vnd.jupyter.widget-view+json": {
       "model_id": "f6a10a61f79846f4b1bc3732edc01fe4",
       "version_major": 2,
       "version_minor": 0
      },
      "text/plain": [
       "Output()"
      ]
     },
     "metadata": {},
     "output_type": "display_data"
    }
   ],
   "source": [
    "# Create a button to initiate the visualization\n",
    "button = widgets.Button(description=\"Visualize Binary Search\")\n",
    "\n",
    "def on_button_click(b):\n",
    "    output.clear_output(wait=True)\n",
    "    with output:\n",
    "        print(f\"Array: {arr}\")\n",
    "        print(f\"Target: {target}\\n\")\n",
    "        visualize_binary_search(arr, target)\n",
    "\n",
    "button.on_click(on_button_click)\n",
    "\n",
    "display(button, output)"
   ]
  },
  {
   "cell_type": "code",
   "execution_count": null,
   "id": "4fea8ffd",
   "metadata": {},
   "outputs": [],
   "source": []
  }
 ],
 "metadata": {
  "kernelspec": {
   "display_name": "Python 3 (ipykernel)",
   "language": "python",
   "name": "python3"
  },
  "language_info": {
   "codemirror_mode": {
    "name": "ipython",
    "version": 3
   },
   "file_extension": ".py",
   "mimetype": "text/x-python",
   "name": "python",
   "nbconvert_exporter": "python",
   "pygments_lexer": "ipython3",
   "version": "3.11.4"
  }
 },
 "nbformat": 4,
 "nbformat_minor": 5
}
